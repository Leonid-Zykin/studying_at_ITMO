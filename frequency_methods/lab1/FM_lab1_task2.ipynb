{
 "cells": [
  {
   "cell_type": "code",
   "execution_count": 1,
   "id": "c0d50313",
   "metadata": {},
   "outputs": [
    {
     "data": {
      "text/plain": [
       "(1.406542348004704e-17j,\n",
       " (1.1463183365015126+6.886860436581447e-17j),\n",
       " (-1.204687451147645e-16+4.496697283057031e-17j))"
      ]
     },
     "execution_count": 1,
     "metadata": {},
     "output_type": "execute_result"
    }
   ],
   "source": [
    "import numpy as np\n",
    "from scipy.integrate import quad\n",
    "\n",
    "# Задаем параметры\n",
    "R = 1\n",
    "T = 1\n",
    "omega = lambda n: 2 * np.pi * n / T\n",
    "\n",
    "# Определим Re f(t) и Im f(t)\n",
    "def ref_fixed(t):\n",
    "    if 0 <= t < 1/8:\n",
    "        return R\n",
    "    elif 1/8 <= t < 3/8:\n",
    "        return 2*R - 8*R*t\n",
    "    elif 3/8 <= t < 5/8:\n",
    "        return -R\n",
    "    elif 5/8 <= t < 7/8:\n",
    "        return -6*R + 8*R*t\n",
    "    elif 7/8 <= t < 1:\n",
    "        return R  # периодическая подстановка (т = -1/8)\n",
    "    else:\n",
    "        return 0\n",
    "\n",
    "def imf_fixed(t):\n",
    "    if 0 <= t < 1/8:\n",
    "        return 8*R*t\n",
    "    elif 1/8 <= t < 3/8:\n",
    "        return R\n",
    "    elif 3/8 <= t < 5/8:\n",
    "        return 4*R - 8*R*t\n",
    "    elif 5/8 <= t < 7/8:\n",
    "        return -R\n",
    "    elif 7/8 <= t < 1:\n",
    "        return -8*R + 8*R*t  # продолжение из -1/8\n",
    "    else:\n",
    "        return 0\n",
    "\n",
    "# Комплексная функция f(t)\n",
    "def f_fixed(t):\n",
    "    return ref_fixed(t) + 1j * imf_fixed(t)\n",
    "\n",
    "# Интеграл для c_n с исправленной f\n",
    "def c_n_fixed(n):\n",
    "    real_integrand = lambda t: np.real(f_fixed(t) * np.exp(-1j * omega(n) * t))\n",
    "    imag_integrand = lambda t: np.imag(f_fixed(t) * np.exp(-1j * omega(n) * t))\n",
    "    integral_real = quad(real_integrand, 0, T)[0]\n",
    "    integral_imag = quad(imag_integrand, 0, T)[0]\n",
    "    return (integral_real + 1j * integral_imag) / T\n",
    "\n",
    "# Повторим вычисление\n",
    "c0 = c_n_fixed(0)\n",
    "c1 = c_n_fixed(1)\n",
    "c2 = c_n_fixed(2)\n",
    "\n",
    "c0, c1, c2\n"
   ]
  }
 ],
 "metadata": {
  "kernelspec": {
   "display_name": "Python 3",
   "language": "python",
   "name": "python3"
  },
  "language_info": {
   "codemirror_mode": {
    "name": "ipython",
    "version": 3
   },
   "file_extension": ".py",
   "mimetype": "text/x-python",
   "name": "python",
   "nbconvert_exporter": "python",
   "pygments_lexer": "ipython3",
   "version": "3.12.3"
  }
 },
 "nbformat": 4,
 "nbformat_minor": 5
}
