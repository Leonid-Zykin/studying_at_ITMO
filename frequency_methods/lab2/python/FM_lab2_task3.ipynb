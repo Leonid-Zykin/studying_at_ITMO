{
 "cells": [
  {
   "cell_type": "code",
   "execution_count": 1,
   "id": "ec2bb77a",
   "metadata": {},
   "outputs": [
    {
     "ename": "ImportError",
     "evalue": "cannot import name 'trapz' from 'scipy.integrate' (/home/leonidas/projects/studying_at_ITMO/frequency_methods/venv/lib/python3.12/site-packages/scipy/integrate/__init__.py)",
     "output_type": "error",
     "traceback": [
      "\u001b[31m---------------------------------------------------------------------------\u001b[39m",
      "\u001b[31mImportError\u001b[39m                               Traceback (most recent call last)",
      "\u001b[36mCell\u001b[39m\u001b[36m \u001b[39m\u001b[32mIn[1]\u001b[39m\u001b[32m, line 4\u001b[39m\n\u001b[32m      2\u001b[39m \u001b[38;5;28;01mimport\u001b[39;00m\u001b[38;5;250m \u001b[39m\u001b[34;01mmatplotlib\u001b[39;00m\u001b[34;01m.\u001b[39;00m\u001b[34;01mpyplot\u001b[39;00m\u001b[38;5;250m \u001b[39m\u001b[38;5;28;01mas\u001b[39;00m\u001b[38;5;250m \u001b[39m\u001b[34;01mplt\u001b[39;00m\n\u001b[32m      3\u001b[39m \u001b[38;5;28;01mfrom\u001b[39;00m\u001b[38;5;250m \u001b[39m\u001b[34;01mscipy\u001b[39;00m\u001b[34;01m.\u001b[39;00m\u001b[34;01mio\u001b[39;00m\u001b[38;5;250m \u001b[39m\u001b[38;5;28;01mimport\u001b[39;00m wavfile\n\u001b[32m----> \u001b[39m\u001b[32m4\u001b[39m \u001b[38;5;28;01mfrom\u001b[39;00m\u001b[38;5;250m \u001b[39m\u001b[34;01mscipy\u001b[39;00m\u001b[34;01m.\u001b[39;00m\u001b[34;01mintegrate\u001b[39;00m\u001b[38;5;250m \u001b[39m\u001b[38;5;28;01mimport\u001b[39;00m trapz\n\u001b[32m      5\u001b[39m \u001b[38;5;28;01mimport\u001b[39;00m\u001b[38;5;250m \u001b[39m\u001b[34;01mlibrosa\u001b[39;00m\n\u001b[32m      8\u001b[39m filename = \u001b[33m\"\u001b[39m\u001b[33mАккорд (12).mp3\u001b[39m\u001b[33m\"\u001b[39m  \u001b[38;5;66;03m# замените на нужный файл\u001b[39;00m\n",
      "\u001b[31mImportError\u001b[39m: cannot import name 'trapz' from 'scipy.integrate' (/home/leonidas/projects/studying_at_ITMO/frequency_methods/venv/lib/python3.12/site-packages/scipy/integrate/__init__.py)"
     ]
    }
   ],
   "source": [
    "import numpy as np\n",
    "import matplotlib.pyplot as plt\n",
    "from scipy.io import wavfile\n",
    "from scipy.integrate import trapz\n",
    "import librosa\n",
    "\n",
    "\n",
    "filename = \"Аккорд (12).mp3\"  # замените на нужный файл\n",
    "y, fs = librosa.load(filename, sr=None, mono=True)\n",
    "\n",
    "# Временная ось\n",
    "N = len(y)\n",
    "t = np.linspace(0, N / fs, N)\n",
    "\n",
    "# Построение временного сигнала\n",
    "plt.figure(figsize=(12, 4))\n",
    "plt.plot(t, y)\n",
    "plt.title(\"Аудиосигнал f(t)\")\n",
    "plt.xlabel(\"Время [с]\")\n",
    "plt.ylabel(\"Амплитуда\")\n",
    "plt.grid(True)\n",
    "plt.tight_layout()\n",
    "plt.savefig(\"audio_signal.png\")\n",
    "plt.show()\n",
    "\n",
    "# Параметры спектра\n",
    "V = 2000  # максимальная частота анализа (в Гц)\n",
    "dv = 1    # шаг по частоте\n",
    "v = np.arange(0, V, dv)\n",
    "\n",
    "# Численное интегрирование\n",
    "Y = []\n",
    "for nu in v:\n",
    "    exponent = np.exp(-2j * np.pi * nu * t)\n",
    "    Y.append(trapz(y * exponent, t))\n",
    "Y = np.array(Y)\n",
    "\n",
    "# Спектр\n",
    "plt.figure(figsize=(12, 4))\n",
    "plt.plot(v, np.abs(Y))\n",
    "plt.title(\"Амплитудный спектр $|\\\\hat{f}(\\\\nu)|$\")\n",
    "plt.xlabel(\"Частота [Гц]\")\n",
    "plt.ylabel(\"Амплитуда\")\n",
    "plt.grid(True)\n",
    "plt.tight_layout()\n",
    "plt.savefig(\"audio_spectrum.png\")\n",
    "plt.show()\n",
    "\n",
    "# Печать локальных максимумов\n",
    "from scipy.signal import find_peaks\n",
    "\n",
    "peaks, _ = find_peaks(np.abs(Y), height=np.max(np.abs(Y)) * 0.1)\n",
    "print(\"Основные частоты (Гц):\")\n",
    "for freq in v[peaks]:\n",
    "    print(f\"{freq:.2f} Гц\")\n"
   ]
  }
 ],
 "metadata": {
  "kernelspec": {
   "display_name": "Python 3",
   "language": "python",
   "name": "python3"
  },
  "language_info": {
   "codemirror_mode": {
    "name": "ipython",
    "version": 3
   },
   "file_extension": ".py",
   "mimetype": "text/x-python",
   "name": "python",
   "nbconvert_exporter": "python",
   "pygments_lexer": "ipython3",
   "version": "3.12.3"
  }
 },
 "nbformat": 4,
 "nbformat_minor": 5
}
